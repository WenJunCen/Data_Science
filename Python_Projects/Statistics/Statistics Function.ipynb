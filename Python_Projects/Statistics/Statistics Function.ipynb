{
 "cells": [
  {
   "cell_type": "code",
   "execution_count": 2,
   "metadata": {},
   "outputs": [],
   "source": [
    "import numpy as np\n",
    "import scipy.stats as ss"
   ]
  },
  {
   "cell_type": "code",
   "execution_count": 167,
   "metadata": {},
   "outputs": [
    {
     "name": "stdout",
     "output_type": "stream",
     "text": [
      "The 2.5758293035489004\n",
      "The lower bound is 14.879776971764375 and upper bound of 99% confidence interval is 73.88022302823563, with margin of error = 11.452708837340698\n"
     ]
    }
   ],
   "source": [
    "class Statistics:\n",
    "    DEFAULT_CONFIDENCE_LEVEL = 0.95  # Default confidence level set to 95%\n",
    "\n",
    "    def __init__(self, sample_data):\n",
    "        self.sample_data = sample_data\n",
    "        self.mean = np.mean(self.sample_data)\n",
    "        self.n = len(sample_data)\n",
    "        self.sd = np.std(sample_data, ddof=1)\n",
    "\n",
    "\n",
    "    def distribution_value(self, score, confidence_level=None):\n",
    "        \"\"\"\n",
    "        Create the z or t distribution value based on input sample size and confidence level\n",
    "        :param confidence_level: Confidence level between 0 and 1 (optional)\n",
    "        :raises ValueError: If score is not 'z' or 't'\n",
    "        :raises ValueError: If confidence_level is not between 0 and 1\n",
    "        :return: The corresponding Z or T value\n",
    "        \"\"\"\n",
    "        if confidence_level is None:\n",
    "            confidence_level = self.DEFAULT_CONFIDENCE_LEVEL\n",
    "\n",
    "        if score.lower() not in ['z', 't']:\n",
    "            raise ValueError('Distribution must be Z or T')\n",
    "        if confidence_level > 1 or confidence_level < 0 :\n",
    "            raise ValueError('Percentage must be between 0 to 1')\n",
    "\n",
    "        self.confidence_level = confidence_level\n",
    "        # Create alpha based on confidence level\n",
    "        self.alpha = 1 - self.confidence_level\n",
    "        \n",
    "        if score.lower() == 'z':\n",
    "            return abs(ss.norm.ppf(self.alpha/2))\n",
    "        elif score.lower() == 't':\n",
    "            return abs(ss.t.ppf(self.alpha/2, self.n - 1))\n",
    "\n",
    "\n",
    "    def ci_interval(self, score, confidence_level=None):\n",
    "        \"\"\"\n",
    "        Create confidence interval based on T or Z distribution\n",
    "        :param score: 'z' for Z-score or 't' for T-score\n",
    "        :param confidence_level: Confidence level between 0 and 1\n",
    "        :return: A tuple containing the lower and upper bounds and margin of error of the confidence interval\n",
    "        \"\"\"\n",
    "        if confidence_level is None:\n",
    "            confidence_level = self.DEFAULT_CONFIDENCE_LEVEL\n",
    "        \n",
    "        dist_value = self.distribution_value(score, confidence_level)\n",
    "        margin_of_error = dist_value * (self.sd / np.sqrt(self.n))\n",
    "        \n",
    "        upper_bound = self.mean + dist_value * margin_of_error\n",
    "        lower_bound = self.mean - dist_value * margin_of_error\n",
    "\n",
    "        return upper_bound, lower_bound, margin_of_error\n",
    "        \n",
    " \n",
    "    # def hypothesis_test(sample_data, x,  dist):\n",
    "    #     \"\"\"\n",
    "    #     \"\"\"\n",
    "    #     pass\n",
    "\n",
    "    \n",
    "def main():\n",
    "    np.random.seed(28)\n",
    "    \n",
    "    # Generate sample data\n",
    "    range_list = np.arange(0,100)\n",
    "    sample_dataset = np.random.choice(range_list,size=50)\n",
    "\n",
    "    sample_dataset_import = Statistics(sample_dataset)\n",
    "\n",
    "    optional_ci = 0.99\n",
    "    dist_score_test = sample_dataset_import.distribution_value(score='z', confidence_level=optional_ci)\n",
    "    print(f\"The {dist_score_test}\")\n",
    "\n",
    "    lower_bound, upper_bound, moe = sample_dataset_import.ci_interval(score='z', confidence_level=optional_ci)\n",
    "    print(f\"The lower bound is {upper_bound} and upper bound of {optional_ci*100:.0f}% confidence interval is {lower_bound}, with margin of error = {moe}\")\n",
    "    \n",
    "\n",
    "if __name__ == \"__main__\":\n",
    "    main()"
   ]
  }
 ],
 "metadata": {
  "kernelspec": {
   "display_name": "Python 3",
   "language": "python",
   "name": "python3"
  },
  "language_info": {
   "codemirror_mode": {
    "name": "ipython",
    "version": 3
   },
   "file_extension": ".py",
   "mimetype": "text/x-python",
   "name": "python",
   "nbconvert_exporter": "python",
   "pygments_lexer": "ipython3",
   "version": "3.8.8"
  }
 },
 "nbformat": 4,
 "nbformat_minor": 2
}
