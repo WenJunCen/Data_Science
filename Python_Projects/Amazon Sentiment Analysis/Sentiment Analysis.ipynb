{
 "cells": [
  {
   "cell_type": "markdown",
   "metadata": {},
   "source": [
    "## Creating Classes"
   ]
  },
  {
   "cell_type": "code",
   "execution_count": 53,
   "metadata": {},
   "outputs": [],
   "source": [
    "from enum import Enum\n",
    "\n",
    "# Create Enum class with variables\n",
    "class Score(Enum):\n",
    "    POSITIVE = 'POSITIVE'\n",
    "    NEGATIVE = 'NEGATIVE'\n",
    "    NEUTRAL = 'NEUTRAL'\n",
    "\n",
    "class Review:\n",
    "    \n",
    "    def __init__(self, text, rating):\n",
    "        self.text = text\n",
    "        self.rating = rating\n",
    "        self.feedback = self.get_feedback()\n",
    "    \n",
    "    # return positive, neutral, or negative based on rating\n",
    "    def get_feedback(self):\n",
    "        if self.rating >= 4:\n",
    "            return Score.POSITIVE\n",
    "        elif self.rating == 3:\n",
    "            return Score.NEUTRAL\n",
    "        else:\n",
    "            return Score.NEGATIVE\n",
    "\n",
    "# Create a sub-class that scales all results proportionally\n",
    "class ReviewProp(Review):\n",
    "    \n",
    "    def __init__(self, text, rating):\n",
    "        super.()__int__(self, text, rating)\n",
    "    \n",
    "    def data_scaling()"
   ]
  },
  {
   "cell_type": "markdown",
   "metadata": {},
   "source": [
    "## Importing Json"
   ]
  },
  {
   "cell_type": "code",
   "execution_count": 64,
   "metadata": {},
   "outputs": [],
   "source": [
    "import json\n",
    "import gzip\n",
    "\n",
    "\n",
    "filename = 'reviews_Toys_and_Games_5.json.gz'  # Sample file.\n",
    "\n",
    "reviewText = []\n",
    "with gzip.open(filename , 'rb') as gzip_file:\n",
    "    for line in gzip_file:  # Read one line.\n",
    "        line = line.rstrip()\n",
    "        if line:  # Any JSON data on it?\n",
    "            review = json.loads(line)\n",
    "            reviewText.append(Review(review['reviewText'], review['overall'])) # Appending only comments and scores\n"
   ]
  },
  {
   "cell_type": "markdown",
   "metadata": {},
   "source": [
    "## Preparing Data"
   ]
  },
  {
   "cell_type": "markdown",
   "metadata": {},
   "source": [
    "### Transform comments into vectorizer"
   ]
  },
  {
   "cell_type": "code",
   "execution_count": null,
   "metadata": {},
   "outputs": [],
   "source": [
    "from sklearn.feature_extraction.text import TfidfVectorizer\n",
    "\n"
   ]
  },
  {
   "cell_type": "markdown",
   "metadata": {},
   "source": [
    "### Splitting Data into Training and Testing"
   ]
  },
  {
   "cell_type": "code",
   "execution_count": 33,
   "metadata": {},
   "outputs": [
    {
     "data": {
      "text/plain": [
       "('Similar to other strategy type games like Agricola and others, it is a fun game with a decent amount of strategy involved.  I would definitely recommend for strategy game players particularly if you have a D&D Background (though that is not required)',\n",
       " 4.0)"
      ]
     },
     "execution_count": 33,
     "metadata": {},
     "output_type": "execute_result"
    }
   ],
   "source": [
    "from sklearn.model_selection import train_test_split\n",
    "\n",
    "train, test = train_test_split()"
   ]
  }
 ],
 "metadata": {
  "kernelspec": {
   "display_name": "Python 3",
   "language": "python",
   "name": "python3"
  },
  "language_info": {
   "codemirror_mode": {
    "name": "ipython",
    "version": 3
   },
   "file_extension": ".py",
   "mimetype": "text/x-python",
   "name": "python",
   "nbconvert_exporter": "python",
   "pygments_lexer": "ipython3",
   "version": "3.7.4"
  }
 },
 "nbformat": 4,
 "nbformat_minor": 2
}
