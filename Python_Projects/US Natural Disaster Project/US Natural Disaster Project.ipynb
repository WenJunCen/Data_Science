{
 "cells": [
  {
   "cell_type": "markdown",
   "metadata": {},
   "source": [
    "Author: WenJun Cen <br>\n",
    "File: US Natural Disaster - Kaggle\n",
    "\n",
    "## Information about data\n",
    "- The dataset contains information about historal data on the declaration of natural disaster. The dataset documents the date and duration, types of disasters, and government assistances.\n",
    "\n",
    "## Goals in analysis\n",
    "- The goal in analyze the dataset is to find patterns in the past and see the frequency and durations of the different types of disaster. In understanding the trends of the past will allow better preparation of disasters in the future.\n",
    "\n",
    "## Dataset Variables\n",
    "- fema_declaration_string: Agency standard method for uniquely identifying Stafford Act declarations. Concatenation of declaration_type, disaster_number and state.\n",
    "- disaster_number: Sequentially assigned number used to designate an event or incident declared as a disaster.\n",
    "- state: US state, district, or territory.\n",
    "- declaration_type: One of \"DR\" (= major disaster), \"EM\" (= emergency management), or \"FM\" (= \"fire management\") declaration_date: Date the disaster was declared.\n",
    "- fy_declared: Fiscal year in which the disaster was declared.\n",
    "- incident_type: Type of incident such as \"Fire\", \"Flood\", or \"Hurricane\". The incident type will affect the types of assistance available.\n",
    "- declaration_title: Title for the disaster. This can be a useful identifier such as \"Hurricane Katrina\" or \"Covid-19 Pandemic\".\n",
    "- ih_program_declared: Binary flag indicating whether the \"Individuals and Households program\" was declared for this disaster.\n",
    "- ia_program_declared: Binary flag indicating whether the \"Individual Assistance program\" was declared for this disaster.\n",
    "- pa_program_declared: Binary flag indicating whether the \"Public Assistance program\" was declared for this disaster.\n",
    "- hm_program_declared: Binary flag indicating whether the \"Hazard Mitigation program\" was declared for this disaster.\n",
    "- incident_begin_date: Date the incident itself began.\n",
    "- incident_end_date: Date the incident itself ended. This feature has about 14% NA entries.\n",
    "- disaster_closeout_date: Date all financial transactions for all programs are completed. This column has 98% NA entries.\n",
    "- fips: 5-digit FIPS county code; used to identify counties and county equivalents in the United States, the District of Columbia, US territories, outlying areas of the US and freely associated states. Concatenated from the 2 source columns \"fipsStateCode\" and \"fipsCountyCode\".\n",
    "- place_code: A unique code system FEMA uses internally to recognize locations that takes the numbers '99' + the 3-digit county FIPS code. There are some declared locations that don't have recognized FIPS county codes in which case a unique identifier was assigned.\n",
    "- designated_area: The name or phrase describing the U.S. county that was included in the declaration. Can take the value \"Statewide\".\n",
    "- declaration_request_number: Unique ID assigned to request for a disaster declaration.\n",
    "- hash: MD5 Hash of the fields and values of the record.\n",
    "- last_refresh: Date the record was last updated by FEMA.\n",
    "- id: Unique ID assigned to the record. Those last 4 columns are primarily for bookkeeping.\n",
    "\n",
    "## Dataset origin\n",
    "\n",
    "- The dataset is originates from Kaggle US Natural Disaster dataset, and is derived from the FEMA website."
   ]
  },
  {
   "cell_type": "markdown",
   "metadata": {},
   "source": [
    "## 1. Import data & Data Cleaning"
   ]
  },
  {
   "cell_type": "code",
   "execution_count": 113,
   "metadata": {},
   "outputs": [],
   "source": [
    "import warnings\n",
    "warnings.filterwarnings('ignore')"
   ]
  },
  {
   "cell_type": "code",
   "execution_count": 112,
   "metadata": {},
   "outputs": [],
   "source": [
    "%matplotlib inline\n",
    "import numpy as np\n",
    "import pandas as pd\n",
    "import matplotlib.pyplot as plt\n",
    "import seaborn as sns\n",
    "from scipy import stats"
   ]
  },
  {
   "cell_type": "code",
   "execution_count": 179,
   "metadata": {},
   "outputs": [
    {
     "data": {
      "text/html": [
       "<div>\n",
       "<style scoped>\n",
       "    .dataframe tbody tr th:only-of-type {\n",
       "        vertical-align: middle;\n",
       "    }\n",
       "\n",
       "    .dataframe tbody tr th {\n",
       "        vertical-align: top;\n",
       "    }\n",
       "\n",
       "    .dataframe thead th {\n",
       "        text-align: right;\n",
       "    }\n",
       "</style>\n",
       "<table border=\"1\" class=\"dataframe\">\n",
       "  <thead>\n",
       "    <tr style=\"text-align: right;\">\n",
       "      <th></th>\n",
       "      <th>fema_declaration_string</th>\n",
       "      <th>disaster_number</th>\n",
       "      <th>state</th>\n",
       "      <th>declaration_type</th>\n",
       "      <th>declaration_date</th>\n",
       "      <th>fy_declared</th>\n",
       "      <th>incident_type</th>\n",
       "      <th>declaration_title</th>\n",
       "      <th>ih_program_declared</th>\n",
       "      <th>ia_program_declared</th>\n",
       "      <th>pa_program_declared</th>\n",
       "      <th>hm_program_declared</th>\n",
       "      <th>incident_begin_date</th>\n",
       "      <th>incident_end_date</th>\n",
       "      <th>disaster_closeout_date</th>\n",
       "      <th>fips</th>\n",
       "      <th>place_code</th>\n",
       "      <th>designated_area</th>\n",
       "      <th>declaration_request_number</th>\n",
       "      <th>hash</th>\n",
       "      <th>last_refresh</th>\n",
       "      <th>id</th>\n",
       "    </tr>\n",
       "  </thead>\n",
       "  <tbody>\n",
       "    <tr>\n",
       "      <th>0</th>\n",
       "      <td>DR-1-GA</td>\n",
       "      <td>1</td>\n",
       "      <td>GA</td>\n",
       "      <td>DR</td>\n",
       "      <td>1953-05-02T04:00:00Z</td>\n",
       "      <td>1953</td>\n",
       "      <td>Tornado</td>\n",
       "      <td>Tornado</td>\n",
       "      <td>0</td>\n",
       "      <td>1</td>\n",
       "      <td>1</td>\n",
       "      <td>1</td>\n",
       "      <td>1953-05-02T04:00:00Z</td>\n",
       "      <td>1953-05-02T04:00:00Z</td>\n",
       "      <td>NaN</td>\n",
       "      <td>13000</td>\n",
       "      <td>0</td>\n",
       "      <td>Statewide</td>\n",
       "      <td>53013</td>\n",
       "      <td>2f28952448e0a666d367ca3f854c81ec</td>\n",
       "      <td>2019-07-26T18:49:32Z</td>\n",
       "      <td>5d1bceafd5b39c032f2602bf</td>\n",
       "    </tr>\n",
       "    <tr>\n",
       "      <th>1</th>\n",
       "      <td>DR-2-TX</td>\n",
       "      <td>2</td>\n",
       "      <td>TX</td>\n",
       "      <td>DR</td>\n",
       "      <td>1953-05-15T04:00:00Z</td>\n",
       "      <td>1953</td>\n",
       "      <td>Tornado</td>\n",
       "      <td>Tornado &amp; Heavy Rainfall</td>\n",
       "      <td>0</td>\n",
       "      <td>1</td>\n",
       "      <td>1</td>\n",
       "      <td>1</td>\n",
       "      <td>1953-05-15T04:00:00Z</td>\n",
       "      <td>1953-05-15T04:00:00Z</td>\n",
       "      <td>NaN</td>\n",
       "      <td>48000</td>\n",
       "      <td>0</td>\n",
       "      <td>Statewide</td>\n",
       "      <td>53003</td>\n",
       "      <td>c5a1a4a1030d6730d9c562cdbe7c830f</td>\n",
       "      <td>2019-07-26T18:49:32Z</td>\n",
       "      <td>5d1bceafd5b39c032f2602c3</td>\n",
       "    </tr>\n",
       "    <tr>\n",
       "      <th>2</th>\n",
       "      <td>DR-3-LA</td>\n",
       "      <td>3</td>\n",
       "      <td>LA</td>\n",
       "      <td>DR</td>\n",
       "      <td>1953-05-29T04:00:00Z</td>\n",
       "      <td>1953</td>\n",
       "      <td>Flood</td>\n",
       "      <td>Flood</td>\n",
       "      <td>0</td>\n",
       "      <td>1</td>\n",
       "      <td>1</td>\n",
       "      <td>1</td>\n",
       "      <td>1953-05-29T04:00:00Z</td>\n",
       "      <td>1953-05-29T04:00:00Z</td>\n",
       "      <td>NaN</td>\n",
       "      <td>22000</td>\n",
       "      <td>0</td>\n",
       "      <td>Statewide</td>\n",
       "      <td>53005</td>\n",
       "      <td>745948932fd77a7c6dcd4de7059ff080</td>\n",
       "      <td>2019-07-26T18:49:32Z</td>\n",
       "      <td>5d1bceafd5b39c032f2602c1</td>\n",
       "    </tr>\n",
       "    <tr>\n",
       "      <th>3</th>\n",
       "      <td>DR-4-MI</td>\n",
       "      <td>4</td>\n",
       "      <td>MI</td>\n",
       "      <td>DR</td>\n",
       "      <td>1953-06-02T04:00:00Z</td>\n",
       "      <td>1953</td>\n",
       "      <td>Tornado</td>\n",
       "      <td>Tornado</td>\n",
       "      <td>0</td>\n",
       "      <td>1</td>\n",
       "      <td>1</td>\n",
       "      <td>1</td>\n",
       "      <td>1953-06-02T04:00:00Z</td>\n",
       "      <td>1953-06-02T04:00:00Z</td>\n",
       "      <td>NaN</td>\n",
       "      <td>26000</td>\n",
       "      <td>0</td>\n",
       "      <td>Statewide</td>\n",
       "      <td>53004</td>\n",
       "      <td>8c9dee13124e36a9dfe2eb74e33fafad</td>\n",
       "      <td>2019-07-26T18:49:32Z</td>\n",
       "      <td>5d1bceafd5b39c032f2602c0</td>\n",
       "    </tr>\n",
       "    <tr>\n",
       "      <th>4</th>\n",
       "      <td>DR-5-MT</td>\n",
       "      <td>5</td>\n",
       "      <td>MT</td>\n",
       "      <td>DR</td>\n",
       "      <td>1953-06-06T04:00:00Z</td>\n",
       "      <td>1953</td>\n",
       "      <td>Flood</td>\n",
       "      <td>Floods</td>\n",
       "      <td>0</td>\n",
       "      <td>1</td>\n",
       "      <td>1</td>\n",
       "      <td>1</td>\n",
       "      <td>1953-06-06T04:00:00Z</td>\n",
       "      <td>1953-06-06T04:00:00Z</td>\n",
       "      <td>NaN</td>\n",
       "      <td>30000</td>\n",
       "      <td>0</td>\n",
       "      <td>Statewide</td>\n",
       "      <td>53006</td>\n",
       "      <td>59c5483387ca13c6a3c1bc692f4860e1</td>\n",
       "      <td>2019-07-26T18:49:32Z</td>\n",
       "      <td>5d1bceafd5b39c032f2602c7</td>\n",
       "    </tr>\n",
       "  </tbody>\n",
       "</table>\n",
       "</div>"
      ],
      "text/plain": [
       "  fema_declaration_string  disaster_number state declaration_type  \\\n",
       "0                 DR-1-GA                1    GA               DR   \n",
       "1                 DR-2-TX                2    TX               DR   \n",
       "2                 DR-3-LA                3    LA               DR   \n",
       "3                 DR-4-MI                4    MI               DR   \n",
       "4                 DR-5-MT                5    MT               DR   \n",
       "\n",
       "       declaration_date  fy_declared incident_type         declaration_title  \\\n",
       "0  1953-05-02T04:00:00Z         1953       Tornado                   Tornado   \n",
       "1  1953-05-15T04:00:00Z         1953       Tornado  Tornado & Heavy Rainfall   \n",
       "2  1953-05-29T04:00:00Z         1953         Flood                     Flood   \n",
       "3  1953-06-02T04:00:00Z         1953       Tornado                   Tornado   \n",
       "4  1953-06-06T04:00:00Z         1953         Flood                    Floods   \n",
       "\n",
       "   ih_program_declared  ia_program_declared  pa_program_declared  \\\n",
       "0                    0                    1                    1   \n",
       "1                    0                    1                    1   \n",
       "2                    0                    1                    1   \n",
       "3                    0                    1                    1   \n",
       "4                    0                    1                    1   \n",
       "\n",
       "   hm_program_declared   incident_begin_date     incident_end_date  \\\n",
       "0                    1  1953-05-02T04:00:00Z  1953-05-02T04:00:00Z   \n",
       "1                    1  1953-05-15T04:00:00Z  1953-05-15T04:00:00Z   \n",
       "2                    1  1953-05-29T04:00:00Z  1953-05-29T04:00:00Z   \n",
       "3                    1  1953-06-02T04:00:00Z  1953-06-02T04:00:00Z   \n",
       "4                    1  1953-06-06T04:00:00Z  1953-06-06T04:00:00Z   \n",
       "\n",
       "  disaster_closeout_date   fips  place_code designated_area  \\\n",
       "0                    NaN  13000           0       Statewide   \n",
       "1                    NaN  48000           0       Statewide   \n",
       "2                    NaN  22000           0       Statewide   \n",
       "3                    NaN  26000           0       Statewide   \n",
       "4                    NaN  30000           0       Statewide   \n",
       "\n",
       "   declaration_request_number                              hash  \\\n",
       "0                       53013  2f28952448e0a666d367ca3f854c81ec   \n",
       "1                       53003  c5a1a4a1030d6730d9c562cdbe7c830f   \n",
       "2                       53005  745948932fd77a7c6dcd4de7059ff080   \n",
       "3                       53004  8c9dee13124e36a9dfe2eb74e33fafad   \n",
       "4                       53006  59c5483387ca13c6a3c1bc692f4860e1   \n",
       "\n",
       "           last_refresh                        id  \n",
       "0  2019-07-26T18:49:32Z  5d1bceafd5b39c032f2602bf  \n",
       "1  2019-07-26T18:49:32Z  5d1bceafd5b39c032f2602c3  \n",
       "2  2019-07-26T18:49:32Z  5d1bceafd5b39c032f2602c1  \n",
       "3  2019-07-26T18:49:32Z  5d1bceafd5b39c032f2602c0  \n",
       "4  2019-07-26T18:49:32Z  5d1bceafd5b39c032f2602c7  "
      ]
     },
     "execution_count": 179,
     "metadata": {},
     "output_type": "execute_result"
    }
   ],
   "source": [
    "pd.set_option('display.max_columns', 500)\n",
    "disaster = pd.read_csv('us_disaster_declarations.csv')\n",
    "disaster.head()"
   ]
  },
  {
   "cell_type": "markdown",
   "metadata": {},
   "source": [
    "### Rows and Columns"
   ]
  },
  {
   "cell_type": "code",
   "execution_count": 97,
   "metadata": {},
   "outputs": [
    {
     "data": {
      "text/plain": [
       "(58936, 22)"
      ]
     },
     "execution_count": 97,
     "metadata": {},
     "output_type": "execute_result"
    }
   ],
   "source": [
    "disaster.shape"
   ]
  },
  {
   "cell_type": "markdown",
   "metadata": {},
   "source": [
    "### Drop Duplicates Rows"
   ]
  },
  {
   "cell_type": "code",
   "execution_count": 182,
   "metadata": {},
   "outputs": [],
   "source": [
    "disaster = disaster.drop_duplicates()"
   ]
  },
  {
   "cell_type": "markdown",
   "metadata": {},
   "source": [
    "### Null Values"
   ]
  },
  {
   "cell_type": "code",
   "execution_count": 183,
   "metadata": {},
   "outputs": [
    {
     "data": {
      "text/plain": [
       "fema_declaration_string           0\n",
       "disaster_number                   0\n",
       "state                             0\n",
       "declaration_type                  0\n",
       "declaration_date                  0\n",
       "fy_declared                       0\n",
       "incident_type                     0\n",
       "declaration_title                 0\n",
       "ih_program_declared               0\n",
       "ia_program_declared               0\n",
       "pa_program_declared               0\n",
       "hm_program_declared               0\n",
       "incident_begin_date               0\n",
       "incident_end_date              8026\n",
       "disaster_closeout_date        57778\n",
       "fips                              0\n",
       "place_code                        0\n",
       "designated_area                   0\n",
       "declaration_request_number        0\n",
       "hash                             75\n",
       "last_refresh                      0\n",
       "id                                0\n",
       "dtype: int64"
      ]
     },
     "execution_count": 183,
     "metadata": {},
     "output_type": "execute_result"
    }
   ],
   "source": [
    "disaster.isnull().sum()"
   ]
  },
  {
   "cell_type": "markdown",
   "metadata": {},
   "source": [
    "### Data Types"
   ]
  },
  {
   "cell_type": "code",
   "execution_count": 184,
   "metadata": {},
   "outputs": [
    {
     "data": {
      "text/plain": [
       "fema_declaration_string       object\n",
       "disaster_number                int64\n",
       "state                         object\n",
       "declaration_type              object\n",
       "declaration_date              object\n",
       "fy_declared                    int64\n",
       "incident_type                 object\n",
       "declaration_title             object\n",
       "ih_program_declared            int64\n",
       "ia_program_declared            int64\n",
       "pa_program_declared            int64\n",
       "hm_program_declared            int64\n",
       "incident_begin_date           object\n",
       "incident_end_date             object\n",
       "disaster_closeout_date        object\n",
       "fips                           int64\n",
       "place_code                     int64\n",
       "designated_area               object\n",
       "declaration_request_number     int64\n",
       "hash                          object\n",
       "last_refresh                  object\n",
       "id                            object\n",
       "dtype: object"
      ]
     },
     "execution_count": 184,
     "metadata": {},
     "output_type": "execute_result"
    }
   ],
   "source": [
    "disaster.dtypes"
   ]
  },
  {
   "cell_type": "markdown",
   "metadata": {},
   "source": [
    "### Summary Statistics"
   ]
  },
  {
   "cell_type": "code",
   "execution_count": 185,
   "metadata": {},
   "outputs": [
    {
     "data": {
      "text/html": [
       "<div>\n",
       "<style scoped>\n",
       "    .dataframe tbody tr th:only-of-type {\n",
       "        vertical-align: middle;\n",
       "    }\n",
       "\n",
       "    .dataframe tbody tr th {\n",
       "        vertical-align: top;\n",
       "    }\n",
       "\n",
       "    .dataframe thead th {\n",
       "        text-align: right;\n",
       "    }\n",
       "</style>\n",
       "<table border=\"1\" class=\"dataframe\">\n",
       "  <thead>\n",
       "    <tr style=\"text-align: right;\">\n",
       "      <th></th>\n",
       "      <th>disaster_number</th>\n",
       "      <th>fy_declared</th>\n",
       "      <th>ih_program_declared</th>\n",
       "      <th>ia_program_declared</th>\n",
       "      <th>pa_program_declared</th>\n",
       "      <th>hm_program_declared</th>\n",
       "      <th>fips</th>\n",
       "      <th>place_code</th>\n",
       "      <th>declaration_request_number</th>\n",
       "    </tr>\n",
       "  </thead>\n",
       "  <tbody>\n",
       "    <tr>\n",
       "      <th>count</th>\n",
       "      <td>58936.000000</td>\n",
       "      <td>58936.000000</td>\n",
       "      <td>58936.000000</td>\n",
       "      <td>58936.000000</td>\n",
       "      <td>58936.000000</td>\n",
       "      <td>58936.000000</td>\n",
       "      <td>58936.000000</td>\n",
       "      <td>58936.000000</td>\n",
       "      <td>58936.000000</td>\n",
       "    </tr>\n",
       "    <tr>\n",
       "      <th>mean</th>\n",
       "      <td>2435.195619</td>\n",
       "      <td>2002.866652</td>\n",
       "      <td>0.114904</td>\n",
       "      <td>0.291621</td>\n",
       "      <td>0.930077</td>\n",
       "      <td>0.352891</td>\n",
       "      <td>31747.716896</td>\n",
       "      <td>96363.772618</td>\n",
       "      <td>36243.623456</td>\n",
       "    </tr>\n",
       "    <tr>\n",
       "      <th>std</th>\n",
       "      <td>1367.715197</td>\n",
       "      <td>14.517088</td>\n",
       "      <td>0.318909</td>\n",
       "      <td>0.454513</td>\n",
       "      <td>0.255020</td>\n",
       "      <td>0.477873</td>\n",
       "      <td>16562.781508</td>\n",
       "      <td>14134.247698</td>\n",
       "      <td>36198.966481</td>\n",
       "    </tr>\n",
       "    <tr>\n",
       "      <th>min</th>\n",
       "      <td>1.000000</td>\n",
       "      <td>1953.000000</td>\n",
       "      <td>0.000000</td>\n",
       "      <td>0.000000</td>\n",
       "      <td>0.000000</td>\n",
       "      <td>0.000000</td>\n",
       "      <td>1000.000000</td>\n",
       "      <td>0.000000</td>\n",
       "      <td>3.000000</td>\n",
       "    </tr>\n",
       "    <tr>\n",
       "      <th>25%</th>\n",
       "      <td>1239.000000</td>\n",
       "      <td>1996.000000</td>\n",
       "      <td>0.000000</td>\n",
       "      <td>0.000000</td>\n",
       "      <td>1.000000</td>\n",
       "      <td>0.000000</td>\n",
       "      <td>19165.000000</td>\n",
       "      <td>99029.000000</td>\n",
       "      <td>8063.750000</td>\n",
       "    </tr>\n",
       "    <tr>\n",
       "      <th>50%</th>\n",
       "      <td>2185.500000</td>\n",
       "      <td>2005.000000</td>\n",
       "      <td>0.000000</td>\n",
       "      <td>0.000000</td>\n",
       "      <td>1.000000</td>\n",
       "      <td>0.000000</td>\n",
       "      <td>30065.000000</td>\n",
       "      <td>99073.000000</td>\n",
       "      <td>18113.000000</td>\n",
       "    </tr>\n",
       "    <tr>\n",
       "      <th>75%</th>\n",
       "      <td>3441.000000</td>\n",
       "      <td>2014.000000</td>\n",
       "      <td>0.000000</td>\n",
       "      <td>1.000000</td>\n",
       "      <td>1.000000</td>\n",
       "      <td>1.000000</td>\n",
       "      <td>46071.000000</td>\n",
       "      <td>99125.000000</td>\n",
       "      <td>76064.000000</td>\n",
       "    </tr>\n",
       "    <tr>\n",
       "      <th>max</th>\n",
       "      <td>5306.000000</td>\n",
       "      <td>2020.000000</td>\n",
       "      <td>1.000000</td>\n",
       "      <td>1.000000</td>\n",
       "      <td>1.000000</td>\n",
       "      <td>1.000000</td>\n",
       "      <td>78030.000000</td>\n",
       "      <td>99507.000000</td>\n",
       "      <td>99159.000000</td>\n",
       "    </tr>\n",
       "  </tbody>\n",
       "</table>\n",
       "</div>"
      ],
      "text/plain": [
       "       disaster_number   fy_declared  ih_program_declared  \\\n",
       "count     58936.000000  58936.000000         58936.000000   \n",
       "mean       2435.195619   2002.866652             0.114904   \n",
       "std        1367.715197     14.517088             0.318909   \n",
       "min           1.000000   1953.000000             0.000000   \n",
       "25%        1239.000000   1996.000000             0.000000   \n",
       "50%        2185.500000   2005.000000             0.000000   \n",
       "75%        3441.000000   2014.000000             0.000000   \n",
       "max        5306.000000   2020.000000             1.000000   \n",
       "\n",
       "       ia_program_declared  pa_program_declared  hm_program_declared  \\\n",
       "count         58936.000000         58936.000000         58936.000000   \n",
       "mean              0.291621             0.930077             0.352891   \n",
       "std               0.454513             0.255020             0.477873   \n",
       "min               0.000000             0.000000             0.000000   \n",
       "25%               0.000000             1.000000             0.000000   \n",
       "50%               0.000000             1.000000             0.000000   \n",
       "75%               1.000000             1.000000             1.000000   \n",
       "max               1.000000             1.000000             1.000000   \n",
       "\n",
       "               fips    place_code  declaration_request_number  \n",
       "count  58936.000000  58936.000000                58936.000000  \n",
       "mean   31747.716896  96363.772618                36243.623456  \n",
       "std    16562.781508  14134.247698                36198.966481  \n",
       "min     1000.000000      0.000000                    3.000000  \n",
       "25%    19165.000000  99029.000000                 8063.750000  \n",
       "50%    30065.000000  99073.000000                18113.000000  \n",
       "75%    46071.000000  99125.000000                76064.000000  \n",
       "max    78030.000000  99507.000000                99159.000000  "
      ]
     },
     "execution_count": 185,
     "metadata": {},
     "output_type": "execute_result"
    }
   ],
   "source": [
    "disaster.describe()"
   ]
  },
  {
   "cell_type": "markdown",
   "metadata": {},
   "source": [
    "### Drop unnecessary columns"
   ]
  },
  {
   "cell_type": "code",
   "execution_count": 186,
   "metadata": {},
   "outputs": [],
   "source": [
    "disaster.drop(columns=['fema_declaration_string', 'fips', 'place_code', \n",
    "                        'declaration_request_number', 'hash', 'last_refresh',\n",
    "                        'id'], inplace=True)"
   ]
  },
  {
   "cell_type": "code",
   "execution_count": 187,
   "metadata": {},
   "outputs": [
    {
     "data": {
      "text/html": [
       "<div>\n",
       "<style scoped>\n",
       "    .dataframe tbody tr th:only-of-type {\n",
       "        vertical-align: middle;\n",
       "    }\n",
       "\n",
       "    .dataframe tbody tr th {\n",
       "        vertical-align: top;\n",
       "    }\n",
       "\n",
       "    .dataframe thead th {\n",
       "        text-align: right;\n",
       "    }\n",
       "</style>\n",
       "<table border=\"1\" class=\"dataframe\">\n",
       "  <thead>\n",
       "    <tr style=\"text-align: right;\">\n",
       "      <th></th>\n",
       "      <th>disaster_number</th>\n",
       "      <th>state</th>\n",
       "      <th>declaration_type</th>\n",
       "      <th>declaration_date</th>\n",
       "      <th>fy_declared</th>\n",
       "      <th>incident_type</th>\n",
       "      <th>declaration_title</th>\n",
       "      <th>ih_program_declared</th>\n",
       "      <th>ia_program_declared</th>\n",
       "      <th>pa_program_declared</th>\n",
       "      <th>hm_program_declared</th>\n",
       "      <th>incident_begin_date</th>\n",
       "      <th>incident_end_date</th>\n",
       "      <th>disaster_closeout_date</th>\n",
       "      <th>designated_area</th>\n",
       "    </tr>\n",
       "  </thead>\n",
       "  <tbody>\n",
       "    <tr>\n",
       "      <th>0</th>\n",
       "      <td>1</td>\n",
       "      <td>GA</td>\n",
       "      <td>DR</td>\n",
       "      <td>1953-05-02T04:00:00Z</td>\n",
       "      <td>1953</td>\n",
       "      <td>Tornado</td>\n",
       "      <td>Tornado</td>\n",
       "      <td>0</td>\n",
       "      <td>1</td>\n",
       "      <td>1</td>\n",
       "      <td>1</td>\n",
       "      <td>1953-05-02T04:00:00Z</td>\n",
       "      <td>1953-05-02T04:00:00Z</td>\n",
       "      <td>NaN</td>\n",
       "      <td>Statewide</td>\n",
       "    </tr>\n",
       "    <tr>\n",
       "      <th>1</th>\n",
       "      <td>2</td>\n",
       "      <td>TX</td>\n",
       "      <td>DR</td>\n",
       "      <td>1953-05-15T04:00:00Z</td>\n",
       "      <td>1953</td>\n",
       "      <td>Tornado</td>\n",
       "      <td>Tornado &amp; Heavy Rainfall</td>\n",
       "      <td>0</td>\n",
       "      <td>1</td>\n",
       "      <td>1</td>\n",
       "      <td>1</td>\n",
       "      <td>1953-05-15T04:00:00Z</td>\n",
       "      <td>1953-05-15T04:00:00Z</td>\n",
       "      <td>NaN</td>\n",
       "      <td>Statewide</td>\n",
       "    </tr>\n",
       "    <tr>\n",
       "      <th>2</th>\n",
       "      <td>3</td>\n",
       "      <td>LA</td>\n",
       "      <td>DR</td>\n",
       "      <td>1953-05-29T04:00:00Z</td>\n",
       "      <td>1953</td>\n",
       "      <td>Flood</td>\n",
       "      <td>Flood</td>\n",
       "      <td>0</td>\n",
       "      <td>1</td>\n",
       "      <td>1</td>\n",
       "      <td>1</td>\n",
       "      <td>1953-05-29T04:00:00Z</td>\n",
       "      <td>1953-05-29T04:00:00Z</td>\n",
       "      <td>NaN</td>\n",
       "      <td>Statewide</td>\n",
       "    </tr>\n",
       "    <tr>\n",
       "      <th>3</th>\n",
       "      <td>4</td>\n",
       "      <td>MI</td>\n",
       "      <td>DR</td>\n",
       "      <td>1953-06-02T04:00:00Z</td>\n",
       "      <td>1953</td>\n",
       "      <td>Tornado</td>\n",
       "      <td>Tornado</td>\n",
       "      <td>0</td>\n",
       "      <td>1</td>\n",
       "      <td>1</td>\n",
       "      <td>1</td>\n",
       "      <td>1953-06-02T04:00:00Z</td>\n",
       "      <td>1953-06-02T04:00:00Z</td>\n",
       "      <td>NaN</td>\n",
       "      <td>Statewide</td>\n",
       "    </tr>\n",
       "    <tr>\n",
       "      <th>4</th>\n",
       "      <td>5</td>\n",
       "      <td>MT</td>\n",
       "      <td>DR</td>\n",
       "      <td>1953-06-06T04:00:00Z</td>\n",
       "      <td>1953</td>\n",
       "      <td>Flood</td>\n",
       "      <td>Floods</td>\n",
       "      <td>0</td>\n",
       "      <td>1</td>\n",
       "      <td>1</td>\n",
       "      <td>1</td>\n",
       "      <td>1953-06-06T04:00:00Z</td>\n",
       "      <td>1953-06-06T04:00:00Z</td>\n",
       "      <td>NaN</td>\n",
       "      <td>Statewide</td>\n",
       "    </tr>\n",
       "  </tbody>\n",
       "</table>\n",
       "</div>"
      ],
      "text/plain": [
       "   disaster_number state declaration_type      declaration_date  fy_declared  \\\n",
       "0                1    GA               DR  1953-05-02T04:00:00Z         1953   \n",
       "1                2    TX               DR  1953-05-15T04:00:00Z         1953   \n",
       "2                3    LA               DR  1953-05-29T04:00:00Z         1953   \n",
       "3                4    MI               DR  1953-06-02T04:00:00Z         1953   \n",
       "4                5    MT               DR  1953-06-06T04:00:00Z         1953   \n",
       "\n",
       "  incident_type         declaration_title  ih_program_declared  \\\n",
       "0       Tornado                   Tornado                    0   \n",
       "1       Tornado  Tornado & Heavy Rainfall                    0   \n",
       "2         Flood                     Flood                    0   \n",
       "3       Tornado                   Tornado                    0   \n",
       "4         Flood                    Floods                    0   \n",
       "\n",
       "   ia_program_declared  pa_program_declared  hm_program_declared  \\\n",
       "0                    1                    1                    1   \n",
       "1                    1                    1                    1   \n",
       "2                    1                    1                    1   \n",
       "3                    1                    1                    1   \n",
       "4                    1                    1                    1   \n",
       "\n",
       "    incident_begin_date     incident_end_date disaster_closeout_date  \\\n",
       "0  1953-05-02T04:00:00Z  1953-05-02T04:00:00Z                    NaN   \n",
       "1  1953-05-15T04:00:00Z  1953-05-15T04:00:00Z                    NaN   \n",
       "2  1953-05-29T04:00:00Z  1953-05-29T04:00:00Z                    NaN   \n",
       "3  1953-06-02T04:00:00Z  1953-06-02T04:00:00Z                    NaN   \n",
       "4  1953-06-06T04:00:00Z  1953-06-06T04:00:00Z                    NaN   \n",
       "\n",
       "  designated_area  \n",
       "0       Statewide  \n",
       "1       Statewide  \n",
       "2       Statewide  \n",
       "3       Statewide  \n",
       "4       Statewide  "
      ]
     },
     "execution_count": 187,
     "metadata": {},
     "output_type": "execute_result"
    }
   ],
   "source": [
    "disaster.head()"
   ]
  },
  {
   "cell_type": "markdown",
   "metadata": {},
   "source": [
    "### Append new columns to identify official states and US commonwealth or territories"
   ]
  },
  {
   "cell_type": "code",
   "execution_count": 188,
   "metadata": {},
   "outputs": [
    {
     "data": {
      "text/plain": [
       "59"
      ]
     },
     "execution_count": 188,
     "metadata": {},
     "output_type": "execute_result"
    }
   ],
   "source": [
    "# There are more than 50 states in the dataset\n",
    "len(disaster.state.unique())"
   ]
  },
  {
   "cell_type": "code",
   "execution_count": 189,
   "metadata": {},
   "outputs": [],
   "source": [
    "usTerritory = ['AS', 'DC', 'FM', 'GU', 'MH', 'MP', 'PW', 'PR', 'VI']"
   ]
  },
  {
   "cell_type": "code",
   "execution_count": 190,
   "metadata": {},
   "outputs": [
    {
     "name": "stdout",
     "output_type": "stream",
     "text": [
      "['GA', 'TX', 'LA', 'MI', 'MT', 'IA', 'MA', 'NH', 'FL', 'AK', 'MS', 'CA', 'NV', 'SD', 'WV', 'RI', 'ME', 'CT', 'NY', 'NM', 'NC', 'SC', 'IN', 'HI', 'CO', 'KS', 'OK', 'PA', 'NJ', 'OR', 'WA', 'ID', 'OH', 'KY', 'VA', 'MO', 'AR', 'IL', 'ND', 'MN', 'NE', 'AL', 'MD', 'DE', 'TN', 'WY', 'VT', 'WI', 'AZ', 'UT']\n"
     ]
    },
    {
     "data": {
      "text/plain": [
       "50"
      ]
     },
     "execution_count": 190,
     "metadata": {},
     "output_type": "execute_result"
    }
   ],
   "source": [
    "states = []\n",
    "for item in [state for state in disaster.state.unique() if state not in usTerritory]:\n",
    "    states.append(item)\n",
    "print(states)\n",
    "len(states)"
   ]
  },
  {
   "cell_type": "code",
   "execution_count": 191,
   "metadata": {},
   "outputs": [],
   "source": [
    "# Appending the state identifier\n",
    "disaster.loc[disaster.state.isin(usTerritory), 'state_Identifier'] = 'Territory'\n",
    "disaster.loc[~disaster.state.isin(usTerritory), 'state_Identifier'] = 'Official State'"
   ]
  },
  {
   "cell_type": "code",
   "execution_count": 234,
   "metadata": {},
   "outputs": [],
   "source": [
    "states_abb = {\n",
    "        'AK': 'Alaska',\n",
    "        'AL': 'Alabama',\n",
    "        'AR': 'Arkansas',\n",
    "        'AS': 'American Samoa',\n",
    "        'AZ': 'Arizona',\n",
    "        'CA': 'California',\n",
    "        'CO': 'Colorado',\n",
    "        'CT': 'Connecticut',\n",
    "        'DC': 'District of Columbia',\n",
    "        'DE': 'Delaware',\n",
    "        'FL': 'Florida',\n",
    "        'GA': 'Georgia',\n",
    "        'GU': 'Guam',\n",
    "        'HI': 'Hawaii',\n",
    "        'IA': 'Iowa',\n",
    "        'ID': 'Idaho',\n",
    "        'IL': 'Illinois',\n",
    "        'IN': 'Indiana',\n",
    "        'KS': 'Kansas',\n",
    "        'KY': 'Kentucky',\n",
    "        'LA': 'Louisiana',\n",
    "        'MA': 'Massachusetts',\n",
    "        'MD': 'Maryland',\n",
    "        'ME': 'Maine',\n",
    "        'MI': 'Michigan',\n",
    "        'MN': 'Minnesota',\n",
    "        'MO': 'Missouri',\n",
    "        'MP': 'Northern Mariana Islands',\n",
    "        'MS': 'Mississippi',\n",
    "        'MT': 'Montana',\n",
    "        'NA': 'National',\n",
    "        'NC': 'North Carolina',\n",
    "        'ND': 'North Dakota',\n",
    "        'NE': 'Nebraska',\n",
    "        'NH': 'New Hampshire',\n",
    "        'NJ': 'New Jersey',\n",
    "        'NM': 'New Mexico',\n",
    "        'NV': 'Nevada',\n",
    "        'NY': 'New York',\n",
    "        'OH': 'Ohio',\n",
    "        'OK': 'Oklahoma',\n",
    "        'OR': 'Oregon',\n",
    "        'PA': 'Pennsylvania',\n",
    "        'PR': 'Puerto Rico',\n",
    "        'RI': 'Rhode Island',\n",
    "        'SC': 'South Carolina',\n",
    "        'SD': 'South Dakota',\n",
    "        'TN': 'Tennessee',\n",
    "        'TX': 'Texas',\n",
    "        'UT': 'Utah',\n",
    "        'VA': 'Virginia',\n",
    "        'VI': 'Virgin Islands',\n",
    "        'VT': 'Vermont',\n",
    "        'WA': 'Washington',\n",
    "        'WI': 'Wisconsin',\n",
    "        'WV': 'West Virginia',\n",
    "        'WY': 'Wyoming'\n",
    "}"
   ]
  },
  {
   "cell_type": "code",
   "execution_count": 240,
   "metadata": {},
   "outputs": [],
   "source": [
    "disaster.loc[:,'statesName'] = disaster.state.map(states_abb)"
   ]
  },
  {
   "cell_type": "code",
   "execution_count": 400,
   "metadata": {},
   "outputs": [
    {
     "data": {
      "text/html": [
       "<div>\n",
       "<style scoped>\n",
       "    .dataframe tbody tr th:only-of-type {\n",
       "        vertical-align: middle;\n",
       "    }\n",
       "\n",
       "    .dataframe tbody tr th {\n",
       "        vertical-align: top;\n",
       "    }\n",
       "\n",
       "    .dataframe thead th {\n",
       "        text-align: right;\n",
       "    }\n",
       "</style>\n",
       "<table border=\"1\" class=\"dataframe\">\n",
       "  <thead>\n",
       "    <tr style=\"text-align: right;\">\n",
       "      <th></th>\n",
       "      <th>disaster_number</th>\n",
       "      <th>state</th>\n",
       "      <th>declaration_type</th>\n",
       "      <th>declaration_date</th>\n",
       "      <th>fy_declared</th>\n",
       "      <th>incident_type</th>\n",
       "      <th>declaration_title</th>\n",
       "      <th>ih_program_declared</th>\n",
       "      <th>ia_program_declared</th>\n",
       "      <th>pa_program_declared</th>\n",
       "      <th>hm_program_declared</th>\n",
       "      <th>incident_begin_date</th>\n",
       "      <th>incident_end_date</th>\n",
       "      <th>disaster_closeout_date</th>\n",
       "      <th>designated_area</th>\n",
       "      <th>state_Identifier</th>\n",
       "      <th>statesName</th>\n",
       "    </tr>\n",
       "  </thead>\n",
       "  <tbody>\n",
       "    <tr>\n",
       "      <th>0</th>\n",
       "      <td>1</td>\n",
       "      <td>GA</td>\n",
       "      <td>DR</td>\n",
       "      <td>1953-05-02 04:00:00+00:00</td>\n",
       "      <td>1953</td>\n",
       "      <td>Tornado</td>\n",
       "      <td>Tornado</td>\n",
       "      <td>0</td>\n",
       "      <td>1</td>\n",
       "      <td>1</td>\n",
       "      <td>1</td>\n",
       "      <td>1953-05-02 04:00:00+00:00</td>\n",
       "      <td>1953-05-02 04:00:00+00:00</td>\n",
       "      <td>NaT</td>\n",
       "      <td>Statewide</td>\n",
       "      <td>Official State</td>\n",
       "      <td>Georgia</td>\n",
       "    </tr>\n",
       "    <tr>\n",
       "      <th>1</th>\n",
       "      <td>2</td>\n",
       "      <td>TX</td>\n",
       "      <td>DR</td>\n",
       "      <td>1953-05-15 04:00:00+00:00</td>\n",
       "      <td>1953</td>\n",
       "      <td>Tornado</td>\n",
       "      <td>Tornado &amp; Heavy Rainfall</td>\n",
       "      <td>0</td>\n",
       "      <td>1</td>\n",
       "      <td>1</td>\n",
       "      <td>1</td>\n",
       "      <td>1953-05-15 04:00:00+00:00</td>\n",
       "      <td>1953-05-15 04:00:00+00:00</td>\n",
       "      <td>NaT</td>\n",
       "      <td>Statewide</td>\n",
       "      <td>Official State</td>\n",
       "      <td>Texas</td>\n",
       "    </tr>\n",
       "    <tr>\n",
       "      <th>2</th>\n",
       "      <td>3</td>\n",
       "      <td>LA</td>\n",
       "      <td>DR</td>\n",
       "      <td>1953-05-29 04:00:00+00:00</td>\n",
       "      <td>1953</td>\n",
       "      <td>Flood</td>\n",
       "      <td>Flood</td>\n",
       "      <td>0</td>\n",
       "      <td>1</td>\n",
       "      <td>1</td>\n",
       "      <td>1</td>\n",
       "      <td>1953-05-29 04:00:00+00:00</td>\n",
       "      <td>1953-05-29 04:00:00+00:00</td>\n",
       "      <td>NaT</td>\n",
       "      <td>Statewide</td>\n",
       "      <td>Official State</td>\n",
       "      <td>Louisiana</td>\n",
       "    </tr>\n",
       "    <tr>\n",
       "      <th>3</th>\n",
       "      <td>4</td>\n",
       "      <td>MI</td>\n",
       "      <td>DR</td>\n",
       "      <td>1953-06-02 04:00:00+00:00</td>\n",
       "      <td>1953</td>\n",
       "      <td>Tornado</td>\n",
       "      <td>Tornado</td>\n",
       "      <td>0</td>\n",
       "      <td>1</td>\n",
       "      <td>1</td>\n",
       "      <td>1</td>\n",
       "      <td>1953-06-02 04:00:00+00:00</td>\n",
       "      <td>1953-06-02 04:00:00+00:00</td>\n",
       "      <td>NaT</td>\n",
       "      <td>Statewide</td>\n",
       "      <td>Official State</td>\n",
       "      <td>Michigan</td>\n",
       "    </tr>\n",
       "    <tr>\n",
       "      <th>4</th>\n",
       "      <td>5</td>\n",
       "      <td>MT</td>\n",
       "      <td>DR</td>\n",
       "      <td>1953-06-06 04:00:00+00:00</td>\n",
       "      <td>1953</td>\n",
       "      <td>Flood</td>\n",
       "      <td>Floods</td>\n",
       "      <td>0</td>\n",
       "      <td>1</td>\n",
       "      <td>1</td>\n",
       "      <td>1</td>\n",
       "      <td>1953-06-06 04:00:00+00:00</td>\n",
       "      <td>1953-06-06 04:00:00+00:00</td>\n",
       "      <td>NaT</td>\n",
       "      <td>Statewide</td>\n",
       "      <td>Official State</td>\n",
       "      <td>Montana</td>\n",
       "    </tr>\n",
       "  </tbody>\n",
       "</table>\n",
       "</div>"
      ],
      "text/plain": [
       "   disaster_number state declaration_type          declaration_date  \\\n",
       "0                1    GA               DR 1953-05-02 04:00:00+00:00   \n",
       "1                2    TX               DR 1953-05-15 04:00:00+00:00   \n",
       "2                3    LA               DR 1953-05-29 04:00:00+00:00   \n",
       "3                4    MI               DR 1953-06-02 04:00:00+00:00   \n",
       "4                5    MT               DR 1953-06-06 04:00:00+00:00   \n",
       "\n",
       "   fy_declared incident_type         declaration_title  ih_program_declared  \\\n",
       "0         1953       Tornado                   Tornado                    0   \n",
       "1         1953       Tornado  Tornado & Heavy Rainfall                    0   \n",
       "2         1953         Flood                     Flood                    0   \n",
       "3         1953       Tornado                   Tornado                    0   \n",
       "4         1953         Flood                    Floods                    0   \n",
       "\n",
       "   ia_program_declared  pa_program_declared  hm_program_declared  \\\n",
       "0                    1                    1                    1   \n",
       "1                    1                    1                    1   \n",
       "2                    1                    1                    1   \n",
       "3                    1                    1                    1   \n",
       "4                    1                    1                    1   \n",
       "\n",
       "        incident_begin_date         incident_end_date disaster_closeout_date  \\\n",
       "0 1953-05-02 04:00:00+00:00 1953-05-02 04:00:00+00:00                    NaT   \n",
       "1 1953-05-15 04:00:00+00:00 1953-05-15 04:00:00+00:00                    NaT   \n",
       "2 1953-05-29 04:00:00+00:00 1953-05-29 04:00:00+00:00                    NaT   \n",
       "3 1953-06-02 04:00:00+00:00 1953-06-02 04:00:00+00:00                    NaT   \n",
       "4 1953-06-06 04:00:00+00:00 1953-06-06 04:00:00+00:00                    NaT   \n",
       "\n",
       "  designated_area state_Identifier statesName  \n",
       "0       Statewide   Official State    Georgia  \n",
       "1       Statewide   Official State      Texas  \n",
       "2       Statewide   Official State  Louisiana  \n",
       "3       Statewide   Official State   Michigan  \n",
       "4       Statewide   Official State    Montana  "
      ]
     },
     "execution_count": 400,
     "metadata": {},
     "output_type": "execute_result"
    }
   ],
   "source": [
    "disaster.head()"
   ]
  },
  {
   "cell_type": "markdown",
   "metadata": {},
   "source": [
    "### Convert date & time to datetime type"
   ]
  },
  {
   "cell_type": "code",
   "execution_count": 192,
   "metadata": {},
   "outputs": [],
   "source": [
    "date_Datatypes = ['declaration_date', 'incident_begin_date', 'incident_end_date', 'disaster_closeout_date']"
   ]
  },
  {
   "cell_type": "code",
   "execution_count": 193,
   "metadata": {},
   "outputs": [],
   "source": [
    "for date in date_Datatypes:\n",
    "    disaster[date] = pd.to_datetime(disaster[date], errors='ignore')"
   ]
  },
  {
   "cell_type": "code",
   "execution_count": 194,
   "metadata": {},
   "outputs": [
    {
     "data": {
      "text/plain": [
       "disaster_number                         int64\n",
       "state                                  object\n",
       "declaration_type                       object\n",
       "declaration_date          datetime64[ns, UTC]\n",
       "fy_declared                             int64\n",
       "incident_type                          object\n",
       "declaration_title                      object\n",
       "ih_program_declared                     int64\n",
       "ia_program_declared                     int64\n",
       "pa_program_declared                     int64\n",
       "hm_program_declared                     int64\n",
       "incident_begin_date       datetime64[ns, UTC]\n",
       "incident_end_date         datetime64[ns, UTC]\n",
       "disaster_closeout_date    datetime64[ns, UTC]\n",
       "designated_area                        object\n",
       "state_Identifier                       object\n",
       "dtype: object"
      ]
     },
     "execution_count": 194,
     "metadata": {},
     "output_type": "execute_result"
    }
   ],
   "source": [
    "disaster.dtypes"
   ]
  },
  {
   "cell_type": "markdown",
   "metadata": {},
   "source": [
    "# 2. Exploratory Data Analysis"
   ]
  },
  {
   "cell_type": "markdown",
   "metadata": {},
   "source": [
    "## EDA on incident\n",
    "\n",
    "### Which incident type occurred the most?"
   ]
  },
  {
   "cell_type": "code",
   "execution_count": 195,
   "metadata": {},
   "outputs": [
    {
     "data": {
      "text/plain": [
       "Severe Storm(s)     16740\n",
       "Hurricane           10876\n",
       "Flood               10360\n",
       "Biological           7622\n",
       "Snow                 3659\n",
       "Fire                 3317\n",
       "Severe Ice Storm     1990\n",
       "Tornado              1452\n",
       "Drought              1292\n",
       "Coastal Storm         507\n",
       "Freezing              301\n",
       "Other                 297\n",
       "Earthquake            224\n",
       "Typhoon               130\n",
       "Volcano                51\n",
       "Fishing Losses         42\n",
       "Mud/Landslide          31\n",
       "Chemical                9\n",
       "Tsunami                 9\n",
       "Toxic Substances        9\n",
       "Human Cause             7\n",
       "Dam/Levee Break         6\n",
       "Terrorist               5\n",
       "Name: incident_type, dtype: int64"
      ]
     },
     "execution_count": 195,
     "metadata": {},
     "output_type": "execute_result"
    }
   ],
   "source": [
    "incident_type_counts = disaster.incident_type.value_counts()\n",
    "incident_type_counts"
   ]
  },
  {
   "cell_type": "code",
   "execution_count": 197,
   "metadata": {},
   "outputs": [
    {
     "data": {
      "image/png": "[encoded data removed]",
      "text/plain": [
       "<Figure size 1440x720 with 1 Axes>"
      ]
     },
     "metadata": {
      "needs_background": "light"
     },
     "output_type": "display_data"
    }
   ],
   "source": [
    "fig, ax = plt.subplots(1, figsize=(20,10))\n",
    "\n",
    "y_ticks = disaster.incident_type.value_counts().index\n",
    "y_pos = np.arange(10)\n",
    "x_counts = incident_type_counts[0:10]\n",
    "\n",
    "plt.barh(y_pos, x_counts, color='coral')\n",
    "ax.set_yticks(y_pos)\n",
    "ax.set_yticklabels(y_ticks)\n",
    "ax.invert_yaxis()\n",
    "ax.set_xlabel('\\n Occurrences')\n",
    "ax.set_title('Which incident occurred the most? \\n')\n",
    "\n",
    "plt.show()"
   ]
  },
  {
   "cell_type": "markdown",
   "metadata": {},
   "source": [
    "### Within the top 3 incident declared, what are the top 3 states?"
   ]
  },
  {
   "cell_type": "code",
   "execution_count": 529,
   "metadata": {},
   "outputs": [
    {
     "data": {
      "text/plain": [
       "incident_type      \n",
       "Flood            IA     722\n",
       "                 MN     642\n",
       "                 ND     632\n",
       "Hurricane        TX    1204\n",
       "                 NC    1075\n",
       "                 FL     930\n",
       "Severe Storm(s)  MO    1291\n",
       "                 OK     998\n",
       "                 KS     975\n",
       "Name: state, dtype: int64"
      ]
     },
     "execution_count": 529,
     "metadata": {},
     "output_type": "execute_result"
    }
   ],
   "source": [
    "top3_incidents = incident_type_counts.index[0:3]\n",
    "top3_incidents = disaster.loc[disaster.incident_type.isin(top3_incidents)]\n",
    "top3_incidents.groupby(['incident_type'])['state'].apply(lambda x: x.value_counts().nlargest(3))"
   ]
  },
  {
   "cell_type": "markdown",
   "metadata": {},
   "source": [
    "### Within the top 3 incident, how many are official vs. territories?"
   ]
  },
  {
   "cell_type": "code",
   "execution_count": 473,
   "metadata": {},
   "outputs": [
    {
     "data": {
      "text/html": [
       "<div>\n",
       "<style scoped>\n",
       "    .dataframe tbody tr th:only-of-type {\n",
       "        vertical-align: middle;\n",
       "    }\n",
       "\n",
       "    .dataframe tbody tr th {\n",
       "        vertical-align: top;\n",
       "    }\n",
       "\n",
       "    .dataframe thead th {\n",
       "        text-align: right;\n",
       "    }\n",
       "</style>\n",
       "<table border=\"1\" class=\"dataframe\">\n",
       "  <thead>\n",
       "    <tr style=\"text-align: right;\">\n",
       "      <th>state_Identifier</th>\n",
       "      <th>Official State</th>\n",
       "      <th>Territory</th>\n",
       "    </tr>\n",
       "    <tr>\n",
       "      <th>incident_type</th>\n",
       "      <th></th>\n",
       "      <th></th>\n",
       "    </tr>\n",
       "  </thead>\n",
       "  <tbody>\n",
       "    <tr>\n",
       "      <th>Flood</th>\n",
       "      <td>9984</td>\n",
       "      <td>376</td>\n",
       "    </tr>\n",
       "    <tr>\n",
       "      <th>Hurricane</th>\n",
       "      <td>10016</td>\n",
       "      <td>860</td>\n",
       "    </tr>\n",
       "    <tr>\n",
       "      <th>Severe Storm(s)</th>\n",
       "      <td>16412</td>\n",
       "      <td>328</td>\n",
       "    </tr>\n",
       "  </tbody>\n",
       "</table>\n",
       "</div>"
      ],
      "text/plain": [
       "state_Identifier  Official State  Territory\n",
       "incident_type                              \n",
       "Flood                       9984        376\n",
       "Hurricane                  10016        860\n",
       "Severe Storm(s)            16412        328"
      ]
     },
     "execution_count": 473,
     "metadata": {},
     "output_type": "execute_result"
    }
   ],
   "source": [
    "top3_incidents.groupby(['incident_type'])['state_Identifier'].value_counts().unstack()"
   ]
  },
  {
   "cell_type": "markdown",
   "metadata": {},
   "source": [
    "### Which 10 states experienced the most drought?"
   ]
  },
  {
   "cell_type": "code",
   "execution_count": 471,
   "metadata": {},
   "outputs": [
    {
     "data": {
      "text/plain": [
       "state\n",
       "TX    149\n",
       "GA    144\n",
       "VA    100\n",
       "MO     94\n",
       "MN     78\n",
       "AL     67\n",
       "WI     66\n",
       "SD     62\n",
       "NC     49\n",
       "CA     47\n",
       "Name: disaster_number, dtype: int64"
      ]
     },
     "execution_count": 471,
     "metadata": {},
     "output_type": "execute_result"
    }
   ],
   "source": [
    "disaster.loc[disaster.incident_type == 'Drought'].groupby('state').disaster_number.count().sort_values(ascending=False).head(10)"
   ]
  },
  {
   "cell_type": "markdown",
   "metadata": {},
   "source": [
    "## EDA on declaration types \n",
    "### What is the distribution of declaration type?"
   ]
  },
  {
   "cell_type": "code",
   "execution_count": 327,
   "metadata": {},
   "outputs": [
    {
     "name": "stdout",
     "output_type": "stream",
     "text": [
      "DR consists 68.65% of all occurrences\n",
      "EM consists 28.51% of all occurrences\n",
      "FM consists 2.84% of all occurrences\n"
     ]
    }
   ],
   "source": [
    "declaration_type_counts = disaster.declaration_type.value_counts()\n",
    "total = sum(declaration_type_counts)\n",
    "\n",
    "for dType, value_count in zip(declaration_type_counts.index, declaration_type_counts):\n",
    "    print(f'{dType} consists {value_count / total * 100 :.2f}% of all occurrences')"
   ]
  },
  {
   "cell_type": "code",
   "execution_count": 226,
   "metadata": {},
   "outputs": [
    {
     "data": {
      "image/png": "[encoded data removed]",
      "text/plain": [
       "<Figure size 1440x720 with 1 Axes>"
      ]
     },
     "metadata": {},
     "output_type": "display_data"
    }
   ],
   "source": [
    "fig, ax = plt.subplots(1, figsize=(20,10))\n",
    "\n",
    "labels = declaration_type_counts.index\n",
    "\n",
    "ax.pie(declaration_type_counts, labels=labels, autopct='%2.2f%%', shadow=True)\n",
    "\n",
    "ax.set_title('Declaration Types Pie Chart')\n",
    "plt.show()"
   ]
  },
  {
   "cell_type": "markdown",
   "metadata": {},
   "source": [
    "## State EDA\n",
    "\n",
    "### Top 10 state with the highest declared cases?"
   ]
  },
  {
   "cell_type": "code",
   "execution_count": 248,
   "metadata": {},
   "outputs": [
    {
     "data": {
      "text/plain": [
       "statesName\n",
       "Texas             4561\n",
       "Missouri          2652\n",
       "Virginia          2460\n",
       "Kentucky          2389\n",
       "Oklahoma          2278\n",
       "Georgia           2240\n",
       "Florida           1959\n",
       "North Carolina    1829\n",
       "Iowa              1799\n",
       "Puerto Rico       1734\n",
       "Name: statesName, dtype: int64"
      ]
     },
     "execution_count": 248,
     "metadata": {},
     "output_type": "execute_result"
    }
   ],
   "source": [
    "top10_States = disaster.groupby('statesName')['statesName'].count().sort_values(ascending=False).head(10)\n",
    "top10_States"
   ]
  },
  {
   "cell_type": "markdown",
   "metadata": {},
   "source": [
    "### Within the 10 states, what are the top 3 incidents delcared?"
   ]
  },
  {
   "cell_type": "code",
   "execution_count": 439,
   "metadata": {},
   "outputs": [
    {
     "data": {
      "text/html": [
       "<div>\n",
       "<style scoped>\n",
       "    .dataframe tbody tr th:only-of-type {\n",
       "        vertical-align: middle;\n",
       "    }\n",
       "\n",
       "    .dataframe tbody tr th {\n",
       "        vertical-align: top;\n",
       "    }\n",
       "\n",
       "    .dataframe thead th {\n",
       "        text-align: right;\n",
       "    }\n",
       "</style>\n",
       "<table border=\"1\" class=\"dataframe\">\n",
       "  <thead>\n",
       "    <tr style=\"text-align: right;\">\n",
       "      <th></th>\n",
       "      <th>statesName</th>\n",
       "      <th>incident_type</th>\n",
       "      <th>0</th>\n",
       "    </tr>\n",
       "  </thead>\n",
       "  <tbody>\n",
       "    <tr>\n",
       "      <th>84</th>\n",
       "      <td>Virginia</td>\n",
       "      <td>Biological</td>\n",
       "      <td>276</td>\n",
       "    </tr>\n",
       "    <tr>\n",
       "      <th>85</th>\n",
       "      <td>Virginia</td>\n",
       "      <td>Drought</td>\n",
       "      <td>100</td>\n",
       "    </tr>\n",
       "    <tr>\n",
       "      <th>86</th>\n",
       "      <td>Virginia</td>\n",
       "      <td>Earthquake</td>\n",
       "      <td>10</td>\n",
       "    </tr>\n",
       "    <tr>\n",
       "      <th>73</th>\n",
       "      <td>Texas</td>\n",
       "      <td>Biological</td>\n",
       "      <td>517</td>\n",
       "    </tr>\n",
       "    <tr>\n",
       "      <th>75</th>\n",
       "      <td>Texas</td>\n",
       "      <td>Drought</td>\n",
       "      <td>149</td>\n",
       "    </tr>\n",
       "    <tr>\n",
       "      <th>74</th>\n",
       "      <td>Texas</td>\n",
       "      <td>Coastal Storm</td>\n",
       "      <td>42</td>\n",
       "    </tr>\n",
       "    <tr>\n",
       "      <th>65</th>\n",
       "      <td>Puerto Rico</td>\n",
       "      <td>Biological</td>\n",
       "      <td>156</td>\n",
       "    </tr>\n",
       "    <tr>\n",
       "      <th>67</th>\n",
       "      <td>Puerto Rico</td>\n",
       "      <td>Earthquake</td>\n",
       "      <td>111</td>\n",
       "    </tr>\n",
       "    <tr>\n",
       "      <th>66</th>\n",
       "      <td>Puerto Rico</td>\n",
       "      <td>Drought</td>\n",
       "      <td>25</td>\n",
       "    </tr>\n",
       "    <tr>\n",
       "      <th>56</th>\n",
       "      <td>Oklahoma</td>\n",
       "      <td>Biological</td>\n",
       "      <td>234</td>\n",
       "    </tr>\n",
       "    <tr>\n",
       "      <th>58</th>\n",
       "      <td>Oklahoma</td>\n",
       "      <td>Flood</td>\n",
       "      <td>225</td>\n",
       "    </tr>\n",
       "    <tr>\n",
       "      <th>57</th>\n",
       "      <td>Oklahoma</td>\n",
       "      <td>Fire</td>\n",
       "      <td>211</td>\n",
       "    </tr>\n",
       "    <tr>\n",
       "      <th>46</th>\n",
       "      <td>North Carolina</td>\n",
       "      <td>Biological</td>\n",
       "      <td>207</td>\n",
       "    </tr>\n",
       "    <tr>\n",
       "      <th>47</th>\n",
       "      <td>North Carolina</td>\n",
       "      <td>Drought</td>\n",
       "      <td>49</td>\n",
       "    </tr>\n",
       "    <tr>\n",
       "      <th>48</th>\n",
       "      <td>North Carolina</td>\n",
       "      <td>Fire</td>\n",
       "      <td>10</td>\n",
       "    </tr>\n",
       "    <tr>\n",
       "      <th>38</th>\n",
       "      <td>Missouri</td>\n",
       "      <td>Biological</td>\n",
       "      <td>230</td>\n",
       "    </tr>\n",
       "    <tr>\n",
       "      <th>39</th>\n",
       "      <td>Missouri</td>\n",
       "      <td>Drought</td>\n",
       "      <td>94</td>\n",
       "    </tr>\n",
       "    <tr>\n",
       "      <th>40</th>\n",
       "      <td>Missouri</td>\n",
       "      <td>Fire</td>\n",
       "      <td>1</td>\n",
       "    </tr>\n",
       "    <tr>\n",
       "      <th>30</th>\n",
       "      <td>Kentucky</td>\n",
       "      <td>Flood</td>\n",
       "      <td>402</td>\n",
       "    </tr>\n",
       "    <tr>\n",
       "      <th>28</th>\n",
       "      <td>Kentucky</td>\n",
       "      <td>Biological</td>\n",
       "      <td>240</td>\n",
       "    </tr>\n",
       "    <tr>\n",
       "      <th>29</th>\n",
       "      <td>Kentucky</td>\n",
       "      <td>Fire</td>\n",
       "      <td>41</td>\n",
       "    </tr>\n",
       "    <tr>\n",
       "      <th>22</th>\n",
       "      <td>Iowa</td>\n",
       "      <td>Flood</td>\n",
       "      <td>722</td>\n",
       "    </tr>\n",
       "    <tr>\n",
       "      <th>20</th>\n",
       "      <td>Iowa</td>\n",
       "      <td>Biological</td>\n",
       "      <td>203</td>\n",
       "    </tr>\n",
       "    <tr>\n",
       "      <th>21</th>\n",
       "      <td>Iowa</td>\n",
       "      <td>Drought</td>\n",
       "      <td>3</td>\n",
       "    </tr>\n",
       "    <tr>\n",
       "      <th>10</th>\n",
       "      <td>Georgia</td>\n",
       "      <td>Biological</td>\n",
       "      <td>321</td>\n",
       "    </tr>\n",
       "    <tr>\n",
       "      <th>11</th>\n",
       "      <td>Georgia</td>\n",
       "      <td>Drought</td>\n",
       "      <td>144</td>\n",
       "    </tr>\n",
       "    <tr>\n",
       "      <th>12</th>\n",
       "      <td>Georgia</td>\n",
       "      <td>Fire</td>\n",
       "      <td>17</td>\n",
       "    </tr>\n",
       "    <tr>\n",
       "      <th>2</th>\n",
       "      <td>Florida</td>\n",
       "      <td>Fire</td>\n",
       "      <td>271</td>\n",
       "    </tr>\n",
       "    <tr>\n",
       "      <th>0</th>\n",
       "      <td>Florida</td>\n",
       "      <td>Biological</td>\n",
       "      <td>144</td>\n",
       "    </tr>\n",
       "    <tr>\n",
       "      <th>1</th>\n",
       "      <td>Florida</td>\n",
       "      <td>Coastal Storm</td>\n",
       "      <td>25</td>\n",
       "    </tr>\n",
       "  </tbody>\n",
       "</table>\n",
       "</div>"
      ],
      "text/plain": [
       "        statesName  incident_type    0\n",
       "84        Virginia     Biological  276\n",
       "85        Virginia        Drought  100\n",
       "86        Virginia     Earthquake   10\n",
       "73           Texas     Biological  517\n",
       "75           Texas        Drought  149\n",
       "74           Texas  Coastal Storm   42\n",
       "65     Puerto Rico     Biological  156\n",
       "67     Puerto Rico     Earthquake  111\n",
       "66     Puerto Rico        Drought   25\n",
       "56        Oklahoma     Biological  234\n",
       "58        Oklahoma          Flood  225\n",
       "57        Oklahoma           Fire  211\n",
       "46  North Carolina     Biological  207\n",
       "47  North Carolina        Drought   49\n",
       "48  North Carolina           Fire   10\n",
       "38        Missouri     Biological  230\n",
       "39        Missouri        Drought   94\n",
       "40        Missouri           Fire    1\n",
       "30        Kentucky          Flood  402\n",
       "28        Kentucky     Biological  240\n",
       "29        Kentucky           Fire   41\n",
       "22            Iowa          Flood  722\n",
       "20            Iowa     Biological  203\n",
       "21            Iowa        Drought    3\n",
       "10         Georgia     Biological  321\n",
       "11         Georgia        Drought  144\n",
       "12         Georgia           Fire   17\n",
       "2          Florida           Fire  271\n",
       "0          Florida     Biological  144\n",
       "1          Florida  Coastal Storm   25"
      ]
     },
     "execution_count": 439,
     "metadata": {},
     "output_type": "execute_result"
    }
   ],
   "source": [
    "top3_Incidents_top10States = disaster.loc[disaster.statesName.isin(top10_States.index)]\n",
    "top3_Incidents_top10States = top3_Incidents_top10States.groupby(['statesName','incident_type']).size().reset_index()\n",
    "top3_Incidents_top10States.groupby('statesName')['statesName', 'incident_type',0].head(3).sort_values(by=['statesName',0],ascending=False)"
   ]
  },
  {
   "cell_type": "markdown",
   "metadata": {},
   "source": [
    "### What are the top 3 incidents in commonwealth & territories?"
   ]
  },
  {
   "cell_type": "code",
   "execution_count": 463,
   "metadata": {},
   "outputs": [
    {
     "data": {
      "text/plain": [
       "state_Identifier  incident_type  \n",
       "Territory         Hurricane          860\n",
       "                  Flood              376\n",
       "                  Severe Storm(s)    328\n",
       "Name: incident_type, dtype: int64"
      ]
     },
     "execution_count": 463,
     "metadata": {},
     "output_type": "execute_result"
    }
   ],
   "source": [
    "disaster.loc[disaster.state_Identifier == 'Territory'].groupby('state_Identifier').incident_type.value_counts().head(3)"
   ]
  },
  {
   "cell_type": "markdown",
   "metadata": {},
   "source": [
    "## Government Assistances EDA\n",
    "### What percentage of each government assistances were declared since 1953"
   ]
  },
  {
   "cell_type": "code",
   "execution_count": 333,
   "metadata": {},
   "outputs": [
    {
     "name": "stdout",
     "output_type": "stream",
     "text": [
      "Individuals and Households program were declared in 11.49% of the occurrences.\n",
      "Individual Assistance program were declared in 29.16% of the occurrences.\n",
      "Public Assistance program were declared in 93.01% of the occurrences.\n",
      "Hazard Mitigation program were declared in 35.29% of the occurrences.\n"
     ]
    }
   ],
   "source": [
    "gov_assists = ['ih_program_declared', 'ia_program_declared', 'pa_program_declared', 'hm_program_declared']\n",
    "gov_assist_names = [\"Individuals and Households program\", \"Individual Assistance program\", \n",
    "                    \"Public Assistance program\",\"Hazard Mitigation program\"]\n",
    "\n",
    "for gov_assist, gov_assist_name in zip(gov_assists, gov_assist_names):\n",
    "    gov_assist = disaster[gov_assist]\n",
    "    print(f'{gov_assist_name} were declared in {100 * np.mean(gov_assist):.2f}% of the occurrences.')"
   ]
  },
  {
   "cell_type": "markdown",
   "metadata": {},
   "source": [
    "### Which year had the highest government assistance programs"
   ]
  },
  {
   "cell_type": "code",
   "execution_count": 411,
   "metadata": {},
   "outputs": [
    {
     "name": "stdout",
     "output_type": "stream",
     "text": [
      "   fy_declared  ih_program_declared\n",
      "0         2004             0.549102\n",
      "1         2003             0.522262\n",
      "2         2008             0.260993\n",
      "   fy_declared  ia_program_declared\n",
      "0         1953                  1.0\n",
      "1         1961                  1.0\n",
      "2         1969                  1.0\n",
      "   fy_declared  pa_program_declared\n",
      "0         1953                  1.0\n",
      "1         1963                  1.0\n",
      "2         1970                  1.0\n",
      "   fy_declared  hm_program_declared\n",
      "0         1953                  1.0\n",
      "1         1960                  1.0\n",
      "2         1956                  1.0\n"
     ]
    }
   ],
   "source": [
    "for gov_assist in gov_assists:\n",
    "    print(disaster.groupby('fy_declared')[gov_assist].mean().sort_values(ascending=False).head(3).reset_index())"
   ]
  },
  {
   "cell_type": "markdown",
   "metadata": {},
   "source": [
    "### Which state had the highest government assistance programs"
   ]
  },
  {
   "cell_type": "code",
   "execution_count": 370,
   "metadata": {},
   "outputs": [
    {
     "name": "stdout",
     "output_type": "stream",
     "text": [
      "  state  ih_program_declared\n",
      "0    IN             0.246556\n",
      "1    AS             0.228571\n",
      "2    FL             0.211843\n",
      "  state  ia_program_declared\n",
      "0    PW             1.000000\n",
      "1    AS             0.571429\n",
      "2    GU             0.526316\n",
      "  state  pa_program_declared\n",
      "0    MP                  1.0\n",
      "1    PW                  1.0\n",
      "2    DC                  1.0\n",
      "  state  hm_program_declared\n",
      "0    VT             0.542857\n",
      "1    NE             0.531601\n",
      "2    GU             0.526316\n"
     ]
    }
   ],
   "source": [
    "for gov_assist in gov_assists:\n",
    "    print(disaster.groupby('state')[gov_assist].mean().sort_values(ascending=False).head(3).reset_index())"
   ]
  },
  {
   "cell_type": "markdown",
   "metadata": {},
   "source": [
    "## EDA on time\n",
    "### What is the average duration for the types of incident?"
   ]
  },
  {
   "cell_type": "code",
   "execution_count": 490,
   "metadata": {},
   "outputs": [],
   "source": [
    "disaster['duration'] = disaster.incident_end_date - disaster.incident_begin_date"
   ]
  },
  {
   "cell_type": "code",
   "execution_count": 524,
   "metadata": {},
   "outputs": [
    {
     "data": {
      "text/plain": [
       "incident_type\n",
       "Toxic Substances   117 days 20:13:13.333333\n",
       "Volcano            106 days 09:45:50.588235\n",
       "Fishing Losses      78 days 10:42:51.428571\n",
       "Fire                69 days 03:30:48.884509\n",
       "Other               45 days 05:06:26.565656\n",
       "Earthquake          37 days 04:13:36.160714\n",
       "Coastal Storm       26 days 05:07:27.185770\n",
       "Flood               25 days 14:41:23.552316\n",
       "Severe Storm(s)     24 days 17:59:40.960568\n",
       "Freezing            23 days 23:08:52.823920\n",
       "Hurricane           20 days 21:45:20.119827\n",
       "Mud/Landslide       18 days 21:35:32.903225\n",
       "Dam/Levee Break            14 days 12:47:30\n",
       "Drought             12 days 14:33:48.482972\n",
       "Severe Ice Storm    10 days 23:20:29.068341\n",
       "Chemical                   10 days 06:00:00\n",
       "Tornado              5 days 17:50:08.911157\n",
       "Terrorist                   5 days 12:36:00\n",
       "Snow                 4 days 09:28:22.064771\n",
       "Typhoon              2 days 00:16:53.307692\n",
       "Tsunami              0 days 00:43:44.666666\n",
       "Human Cause                 0 days 00:00:00\n",
       "Name: duration, dtype: timedelta64[ns]"
      ]
     },
     "execution_count": 524,
     "metadata": {},
     "output_type": "execute_result"
    }
   ],
   "source": [
    "duration = disaster.loc[~disaster.duration.isnull()]\n",
    "duration.groupby('incident_type')['duration'].apply(lambda x: np.mean(x)).sort_values(ascending=False)"
   ]
  },
  {
   "cell_type": "markdown",
   "metadata": {},
   "source": [
    "### What incident had the longest duration?\n",
    "### What is this incident?"
   ]
  },
  {
   "cell_type": "code",
   "execution_count": 555,
   "metadata": {},
   "outputs": [
    {
     "data": {
      "text/plain": [
       "incident_type\n",
       "Volcano             5117\n",
       "Fire                1132\n",
       "Toxic Substances     842\n",
       "Earthquake           317\n",
       "Mud/Landslide        257\n",
       "Drought              241\n",
       "Flood                230\n",
       "Fishing Losses       183\n",
       "Severe Storm(s)      182\n",
       "Freezing             165\n",
       "Other                163\n",
       "Snow                  94\n",
       "Severe Ice Storm      89\n",
       "Coastal Storm         68\n",
       "Hurricane             67\n",
       "Tornado               44\n",
       "Dam/Levee Break       38\n",
       "Chemical              10\n",
       "Typhoon                7\n",
       "Terrorist              7\n",
       "Tsunami                0\n",
       "Human Cause            0\n",
       "Name: duration, dtype: int64"
      ]
     },
     "execution_count": 555,
     "metadata": {},
     "output_type": "execute_result"
    }
   ],
   "source": [
    "duration.groupby('incident_type')['duration'].apply(lambda x: max(x)).sort_values(ascending=False).dt.days"
   ]
  },
  {
   "cell_type": "code",
   "execution_count": 558,
   "metadata": {},
   "outputs": [
    {
     "data": {
      "text/html": [
       "<div>\n",
       "<style scoped>\n",
       "    .dataframe tbody tr th:only-of-type {\n",
       "        vertical-align: middle;\n",
       "    }\n",
       "\n",
       "    .dataframe tbody tr th {\n",
       "        vertical-align: top;\n",
       "    }\n",
       "\n",
       "    .dataframe thead th {\n",
       "        text-align: right;\n",
       "    }\n",
       "</style>\n",
       "<table border=\"1\" class=\"dataframe\">\n",
       "  <thead>\n",
       "    <tr style=\"text-align: right;\">\n",
       "      <th></th>\n",
       "      <th>disaster_number</th>\n",
       "      <th>state</th>\n",
       "      <th>declaration_type</th>\n",
       "      <th>declaration_date</th>\n",
       "      <th>fy_declared</th>\n",
       "      <th>incident_type</th>\n",
       "      <th>declaration_title</th>\n",
       "      <th>ih_program_declared</th>\n",
       "      <th>ia_program_declared</th>\n",
       "      <th>pa_program_declared</th>\n",
       "      <th>hm_program_declared</th>\n",
       "      <th>incident_begin_date</th>\n",
       "      <th>incident_end_date</th>\n",
       "      <th>disaster_closeout_date</th>\n",
       "      <th>designated_area</th>\n",
       "      <th>state_Identifier</th>\n",
       "      <th>statesName</th>\n",
       "      <th>duration</th>\n",
       "    </tr>\n",
       "  </thead>\n",
       "  <tbody>\n",
       "    <tr>\n",
       "      <th>9800</th>\n",
       "      <td>864</td>\n",
       "      <td>HI</td>\n",
       "      <td>DR</td>\n",
       "      <td>1990-05-18 04:00:00+00:00</td>\n",
       "      <td>1990</td>\n",
       "      <td>Volcano</td>\n",
       "      <td>Lava Flow, Kilauea Volcano</td>\n",
       "      <td>0</td>\n",
       "      <td>1</td>\n",
       "      <td>1</td>\n",
       "      <td>0</td>\n",
       "      <td>1983-01-24 05:00:00+00:00</td>\n",
       "      <td>1997-01-27 05:00:00+00:00</td>\n",
       "      <td>NaT</td>\n",
       "      <td>Hawaii (County)</td>\n",
       "      <td>Official State</td>\n",
       "      <td>Hawaii</td>\n",
       "      <td>5117 days</td>\n",
       "    </tr>\n",
       "  </tbody>\n",
       "</table>\n",
       "</div>"
      ],
      "text/plain": [
       "      disaster_number state declaration_type          declaration_date  \\\n",
       "9800              864    HI               DR 1990-05-18 04:00:00+00:00   \n",
       "\n",
       "      fy_declared incident_type           declaration_title  \\\n",
       "9800         1990       Volcano  Lava Flow, Kilauea Volcano   \n",
       "\n",
       "      ih_program_declared  ia_program_declared  pa_program_declared  \\\n",
       "9800                    0                    1                    1   \n",
       "\n",
       "      hm_program_declared       incident_begin_date         incident_end_date  \\\n",
       "9800                    0 1983-01-24 05:00:00+00:00 1997-01-27 05:00:00+00:00   \n",
       "\n",
       "     disaster_closeout_date  designated_area state_Identifier statesName  \\\n",
       "9800                    NaT  Hawaii (County)   Official State     Hawaii   \n",
       "\n",
       "      duration  \n",
       "9800 5117 days  "
      ]
     },
     "execution_count": 558,
     "metadata": {},
     "output_type": "execute_result"
    }
   ],
   "source": [
    "duration.loc[duration.duration == '5117 days']"
   ]
  },
  {
   "cell_type": "markdown",
   "metadata": {},
   "source": [
    "### Time series on the numer of incident declared every year"
   ]
  },
  {
   "cell_type": "code",
   "execution_count": 551,
   "metadata": {},
   "outputs": [
    {
     "data": {
      "image/png": "[encoded data removed]",
      "text/plain": [
       "<Figure size 432x288 with 1 Axes>"
      ]
     },
     "metadata": {
      "needs_background": "light"
     },
     "output_type": "display_data"
    }
   ],
   "source": [
    "# Need to drop declared cases if they are duplicates, based on the subset condition\n",
    "ax = disaster.drop_duplicates(subset=['state','incident_begin_date',\n",
    "                                      'declaration_title','duration']).groupby('fy_declared').incident_type.count().plot()\n",
    "ax.set_ylabel('Incident Counts \\n')\n",
    "ax.set_xlabel('Year')\n",
    "ax.set_title('Yearly Incidents Declared')\n",
    "plt.show()"
   ]
  }
 ],
 "metadata": {
  "kernelspec": {
   "display_name": "Python 3",
   "language": "python",
   "name": "python3"
  },
  "language_info": {
   "codemirror_mode": {
    "name": "ipython",
    "version": 3
   },
   "file_extension": ".py",
   "mimetype": "text/x-python",
   "name": "python",
   "nbconvert_exporter": "python",
   "pygments_lexer": "ipython3",
   "version": "3.7.4"
  }
 },
 "nbformat": 4,
 "nbformat_minor": 2
}
